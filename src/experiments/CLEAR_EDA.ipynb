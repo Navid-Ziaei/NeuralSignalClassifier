{
 "cells": [
  {
   "cell_type": "code",
   "id": "initial_id",
   "metadata": {
    "collapsed": true,
    "ExecuteTime": {
     "end_time": "2024-09-05T11:28:41.795247Z",
     "start_time": "2024-09-05T11:28:34.507051Z"
    }
   },
   "source": [
    "%load_ext autoreload\n",
    "%autoreload 2\n",
    "\n",
    "from src.settings import Paths, Settings\n",
    "from src.data_loader import CLEARDataLoader\n",
    "from ieeg_data_loader.data import iEEGDataLoader\n",
    "import pandas as pd\n",
    "\n"
   ],
   "execution_count": 1,
   "outputs": []
  },
  {
   "metadata": {
    "ExecuteTime": {
     "end_time": "2024-09-05T11:28:41.944387Z",
     "start_time": "2024-09-05T11:28:41.797250Z"
    }
   },
   "cell_type": "code",
   "source": [
    "settings = Settings()  # Initialize settings object\n",
    "settings.load_settings()  # Load settings from a JSON file\n",
    "settings.dataset = 'clear'\n",
    "settings.dataset_task = 'flicker'\n",
    "settings.patient = 'p05' # [f'p{i+1:02}' for i in range(18)]\n",
    "print(f\"Patients: {settings.patient}\")"
   ],
   "id": "3b63d699954169c6",
   "execution_count": 2,
   "outputs": []
  },
  {
   "metadata": {
    "ExecuteTime": {
     "end_time": "2024-09-05T11:28:42.081777Z",
     "start_time": "2024-09-05T11:28:41.944898Z"
    }
   },
   "cell_type": "code",
   "source": [
    "paths = Paths(settings)  # Initialize paths object with loaded settings\n",
    "paths.load_device_paths()  # Load device-specific paths\n",
    "paths.create_paths()  # Create any necessary file paths"
   ],
   "id": "d728a92c576c5a1f",
   "execution_count": 3,
   "outputs": []
  },
  {
   "metadata": {
    "ExecuteTime": {
     "end_time": "2024-09-05T11:28:42.219571Z",
     "start_time": "2024-09-05T11:28:42.083785Z"
    }
   },
   "cell_type": "code",
   "source": [
    "features_raw_df_list = []\n",
    "meta_data_all = []\n",
    "for patient in settings.patient:\n",
    "    # Load EEG dataset using configured settings and paths\n",
    "    dataset = CLEARDataLoader(paths=paths, settings=settings)\n",
    "    dataset.load_data(patient_ids=patient)  # Load EEG data for specified patients\n",
    "    data_loader = iEEGDataLoader(patient=patient,\n",
    "                                     target_class='color',\n",
    "                                     prepared_dataset_path=paths.raw_dataset_path,\n",
    "                                     task=settings.dataset_task,\n",
    "                                     file_format='npy')\n",
    "    dataset_list = data_loader.load_data()\n",
    "    \n",
    "    for dataset in dataset_list:\n",
    "        meta_data = {\n",
    "            'Patient': patient,\n",
    "            'Block': dataset.meta[-1],\n",
    "            'Task': settings.dataset_task,\n",
    "            'Num_Channels': len(dataset.channel_name),\n",
    "            'Num_Trials': dataset.data.shape[0]\n",
    "        }\n",
    "        meta_data_all.append(meta_data)\n",
    "        \n"
   ],
   "id": "14b0a883000524c6",
   "execution_count": 4,
   "outputs": []
  },
  {
   "metadata": {
    "ExecuteTime": {
     "end_time": "2024-09-05T11:28:42.376053Z",
     "start_time": "2024-09-05T11:28:42.221085Z"
    }
   },
   "cell_type": "code",
   "source": [
    "df_info = pd.DataFrame(meta_data_all)\n",
    "df_info.to_csv(paths.eda_results + 'm_sequence_task_summary.csv')"
   ],
   "id": "319e22f4a70eafed",
   "execution_count": 5,
   "outputs": []
  },
  {
   "metadata": {},
   "cell_type": "code",
   "source": "",
   "id": "c75ea95e97b4809c",
   "execution_count": null,
   "outputs": []
  }
 ],
 "metadata": {
  "kernelspec": {
   "display_name": "Python 3",
   "language": "python",
   "name": "python3"
  },
  "language_info": {
   "codemirror_mode": {
    "name": "ipython",
    "version": 2
   },
   "file_extension": ".py",
   "mimetype": "text/x-python",
   "name": "python",
   "nbconvert_exporter": "python",
   "pygments_lexer": "ipython2",
   "version": "2.7.6"
  }
 },
 "nbformat": 4,
 "nbformat_minor": 5
}
